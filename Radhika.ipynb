{
  "nbformat": 4,
  "nbformat_minor": 0,
  "metadata": {
    "colab": {
      "name": "Radhika.ipynb",
      "provenance": [],
      "collapsed_sections": [],
      "authorship_tag": "ABX9TyNirbIKj7C8ZmNM66IW/NgP",
      "include_colab_link": true
    },
    "kernelspec": {
      "name": "python3",
      "display_name": "Python 3"
    },
    "language_info": {
      "name": "python"
    }
  },
  "cells": [
    {
      "cell_type": "markdown",
      "metadata": {
        "id": "view-in-github",
        "colab_type": "text"
      },
      "source": [
        "<a href=\"https://colab.research.google.com/github/RADHIKA-JOSHI123/cryptography/blob/main/Radhika.ipynb\" target=\"_parent\"><img src=\"https://colab.research.google.com/assets/colab-badge.svg\" alt=\"Open In Colab\"/></a>"
      ]
    },
    {
      "cell_type": "code",
      "metadata": {
        "colab": {
          "base_uri": "https://localhost:8080/"
        },
        "id": "IEjHqI7DsMx5",
        "outputId": "c955161e-f795-4996-89ef-6f7a9f1507fd"
      },
      "source": [
        "# Python program to demonstrate\n",
        "# Substitution Cipher\n",
        "  \n",
        "  \n",
        "import string\n",
        "  \n",
        "  \n",
        "# A list containing all characters\n",
        "all_letters= string.ascii_letters\n",
        "   \n",
        "      \n",
        "\"\"\" \n",
        "create a dictionary to store the substitution \n",
        "for the given alphabet in the plain text \n",
        "based on the key\n",
        "\"\"\"\n",
        "   \n",
        "      \n",
        "dict1 = {}\n",
        "key = 4\n",
        "   \n",
        "for i in range(len(all_letters)):\n",
        "    dict1[all_letters[i]] = all_letters[(i+key)%len(all_letters)]\n",
        "   \n",
        "   \n",
        "plain_txt= \"I am studying in Government Polytechnic Pune\"\n",
        "cipher_txt=[]\n",
        "   \n",
        "# loop to generate ciphertext\n",
        "   \n",
        "for char in plain_txt:\n",
        "    if char in all_letters:\n",
        "        temp = dict1[char]\n",
        "        cipher_txt.append(temp)\n",
        "    else:\n",
        "        temp =char\n",
        "        cipher_txt.append(temp)\n",
        "          \n",
        "cipher_txt= \"\".join(cipher_txt)\n",
        "print(\"Cipher Text is: \",cipher_txt)\n",
        "   \n",
        "      \n",
        "\"\"\" \n",
        "create a dictionary to store the substitution\n",
        "for the given alphabet in the cipher \n",
        "text based on the key\n",
        "\"\"\"\n",
        "   \n",
        "      \n",
        "dict2 = {}     \n",
        "for i in range(len(all_letters)):\n",
        "    dict2[all_letters[i]] = all_letters[(i-key)%(len(all_letters))]\n",
        "       \n",
        "# loop to recover plain text\n",
        "decrypt_txt = []\n",
        "  \n",
        "for char in cipher_txt:\n",
        "    if char in all_letters:\n",
        "        temp = dict2[char]\n",
        "        decrypt_txt.append(temp)\n",
        "    else:\n",
        "        temp = char\n",
        "        decrypt_txt.append(temp)\n",
        "          \n",
        "decrypt_txt = \"\".join(decrypt_txt)\n",
        "print(\"Recovered plain text :\", decrypt_txt) "
      ],
      "execution_count": null,
      "outputs": [
        {
          "output_type": "stream",
          "text": [
            "Cipher Text is:  M eq wxyhCmrk mr Kszivrqirx TspCxiglrmg Tyri\n",
            "Recovered plain text : I am studying in Government Polytechnic Pune\n"
          ],
          "name": "stdout"
        }
      ]
    },
    {
      "cell_type": "code",
      "metadata": {
        "id": "1-am1xlPsYkZ",
        "colab": {
          "base_uri": "https://localhost:8080/"
        },
        "outputId": "74665b70-60cc-40f2-b365-26509e5f9c9d"
      },
      "source": [
        "# Python3 program to implement XOR - Encryption\n",
        "  \n",
        "# The same function is used to encrypt and\n",
        "# decrypt\n",
        "def encryptDecrypt(inpString):\n",
        "  \n",
        "    # Define XOR key\n",
        "    # Any character value will work\n",
        "    xorKey = 'P';\n",
        "  \n",
        "    # calculate length of input string\n",
        "    length = len(inpString);\n",
        "  \n",
        "    # perform XOR operation of key\n",
        "    # with every caracter in string\n",
        "    for i in range(length):\n",
        "      \n",
        "        inpString = (inpString[:i] + \n",
        "             chr(ord(inpString[i]) ^ ord(xorKey)) +\n",
        "                     inpString[i + 1:]);\n",
        "        print(inpString[i], end = \"\");\n",
        "      \n",
        "    return inpString;\n",
        "  \n",
        "# Driver Code\n",
        "if __name__ == '__main__':\n",
        "    sampleString = \"GeeksforGeeks\";\n",
        "  \n",
        "    # Encrypt the string\n",
        "    print(\"Encrypted String: \", end = \"\");\n",
        "    sampleString = encryptDecrypt(sampleString);\n",
        "    print(\"\\n\");\n",
        "  \n",
        "    # Decrypt the string\n",
        "    print(\"Decrypted String: \", end = \"\");\n",
        "    encryptDecrypt(sampleString);\n",
        "  "
      ],
      "execution_count": null,
      "outputs": [
        {
          "output_type": "stream",
          "text": [
            "Encrypted String: \u001755;#6?\"\u001755;#\n",
            "\n",
            "Decrypted String: GeeksforGeeks"
          ],
          "name": "stdout"
        }
      ]
    }
  ]
}